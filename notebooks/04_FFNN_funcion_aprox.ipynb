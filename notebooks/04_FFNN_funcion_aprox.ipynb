{
 "cells": [
  {
   "cell_type": "markdown",
   "metadata": {},
   "source": [
    "## Red neuronal feed-forward como función de aproximación\n",
    "\n",
    "A continuación, se empleará una red neuronal feed-forward como función de aproximación para resolver la siguente ecuación diferencial:\n",
    "\n",
    "$$\\frac{d^2u}{dx^2} + u + x = 0 \\enspace , $$\n",
    "\n",
    "con condiciones de frontera $u(0)=u(1)=0$."
   ]
  },
  {
   "cell_type": "code",
   "execution_count": 1,
   "metadata": {},
   "outputs": [],
   "source": [
    "%matplotlib widget\n",
    "import numpy as np\n",
    "import matplotlib.pyplot as plt\n",
    "import torch\n",
    "import torch.optim as optim\n",
    "import torch.nn as nn\n",
    "import warnings\n",
    "warnings.filterwarnings(\"ignore\")"
   ]
  },
  {
   "cell_type": "code",
   "execution_count": 2,
   "metadata": {},
   "outputs": [],
   "source": [
    "# Red Neuronal\n",
    "def funcion_aprox(x, input_layer, hidden_layer, output_layer):\n",
    "    x = torch.tanh(input_layer(x))\n",
    "    x = torch.tanh(hidden_layer(x))\n",
    "    x = output_layer(x)\n",
    "    return x\n",
    "\n",
    "# Inicialización de parámetros\n",
    "def initialize_parameters():\n",
    "    input_layer = nn.Linear(1, 2)\n",
    "    hidden_layer = nn.Linear(2, 2)\n",
    "    output_layer = nn.Linear(2, 1)\n",
    "    return input_layer, hidden_layer, output_layer"
   ]
  },
  {
   "cell_type": "code",
   "execution_count": 3,
   "metadata": {},
   "outputs": [
    {
     "name": "stdout",
     "output_type": "stream",
     "text": [
      "Epoch 0, Loss: 0.9653207659721375\n",
      "Epoch 100, Loss: 0.06096070259809494\n",
      "Epoch 200, Loss: 0.003300235839560628\n",
      "Epoch 300, Loss: 0.0004472806176636368\n",
      "Epoch 400, Loss: 0.00020843508536927402\n",
      "Epoch 500, Loss: 0.00014045363059267402\n",
      "Epoch 600, Loss: 0.00011242061736993492\n",
      "Epoch 700, Loss: 9.898459393298253e-05\n",
      "Epoch 800, Loss: 9.198673797072843e-05\n",
      "Epoch 900, Loss: 8.809778228169307e-05\n"
     ]
    }
   ],
   "source": [
    "# Derivada\n",
    "def derivative(dy, x, order=1):\n",
    "    for _ in range(order):\n",
    "        dy = torch.autograd.grad(dy, x, grad_outputs=torch.ones_like(dy), create_graph=True, retain_graph=True)[0]\n",
    "    return dy\n",
    "\n",
    "# Residuo\n",
    "def residuo(x, input_layer, hidden_layer, output_layer):\n",
    "    y = funcion_aprox(x, input_layer, hidden_layer, output_layer)\n",
    "    return derivative(y, x, order=2) + y + x\n",
    "\n",
    "# Función de pérdida\n",
    "def loss_fn(x, input_layer, hidden_layer, output_layer):\n",
    "    y = residuo(x, input_layer, hidden_layer, output_layer)\n",
    "    return torch.mean(y ** 2)  # Error cuadrático medio\n",
    "\n",
    "# Configuración de datos y parámetros\n",
    "x = torch.tensor([1/5, 2/5, 3/5, 4/5], requires_grad=True).view(-1, 1)  \n",
    "x_bc1 = torch.tensor([0.0], requires_grad=True) \n",
    "x_bc2 = torch.tensor([1.0], requires_grad=True) \n",
    "\n",
    "input_layer, hidden_layer, output_layer = initialize_parameters()\n",
    "\n",
    "# Configuración del optimizador\n",
    "params = list(input_layer.parameters()) + list(hidden_layer.parameters()) + list(output_layer.parameters())\n",
    "optimizer = torch.optim.Adam(params, lr=0.01)\n",
    "\n",
    "# Bucle de entrenamiento\n",
    "num_epochs = 1000\n",
    "for epoch in range(num_epochs):\n",
    "    optimizer.zero_grad()  # Limpiar gradientes previos\n",
    "    loss_physics = torch.mean(residuo(x, input_layer, hidden_layer, output_layer) ** 2)\n",
    "    loss_bc_1 = torch.mean(funcion_aprox(x_bc1, input_layer, hidden_layer, output_layer) ** 2)\n",
    "    loss_bc_2 = torch.mean(funcion_aprox(x_bc2, input_layer, hidden_layer, output_layer) ** 2)\n",
    "    current_loss = loss_physics + loss_bc_1 + loss_bc_2  # Calcular la pérdida\n",
    "    current_loss.backward()  # Calcular gradientes\n",
    "    optimizer.step()  # Actualizar parámetros\n",
    "\n",
    "    if epoch % 100 == 0:  # Mostrar progreso cada 100 épocas\n",
    "        print(f'Epoch {epoch}, Loss: {current_loss.item()}')"
   ]
  },
  {
   "cell_type": "code",
   "execution_count": 4,
   "metadata": {},
   "outputs": [
    {
     "data": {
      "application/vnd.jupyter.widget-view+json": {
       "model_id": "b2a83d34613449f4915dc699fe6cd1cd",
       "version_major": 2,
       "version_minor": 0
      },
      "image/png": "[encoded data removed]",
      "text/html": [
       "\n",
       "            <div style=\"display: inline-block;\">\n",
       "                <div class=\"jupyter-widgets widget-label\" style=\"text-align: center;\">\n",
       "                    Figure\n",
       "                </div>\n",
       "                <img src='data:image/png;base64,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' width=350.0/>\n",
       "            </div>\n",
       "        "
      ],
      "text/plain": [
       "Canvas(toolbar=Toolbar(toolitems=[('Home', 'Reset original view', 'home', 'home'), ('Back', 'Back to previous …"
      ]
     },
     "metadata": {},
     "output_type": "display_data"
    }
   ],
   "source": [
    "# Generar puntos para graficar\n",
    "x = torch.linspace(0, 1, 100).view(-1, 1)\n",
    "y_pred = funcion_aprox(x, input_layer, hidden_layer, output_layer).detach().numpy()\n",
    "y_true = np.sin(x)/np.sin(1) - x\n",
    "\n",
    "# Graficar la solución\n",
    "fig = plt.figure(figsize=(3.5, 2.0))\n",
    "plt.plot(x.numpy(), y_pred)\n",
    "plt.plot(x,y_true,'--')\n",
    "plt.xlabel('x')\n",
    "plt.ylabel('y')\n",
    "plt.show()"
   ]
  },
  {
   "cell_type": "code",
   "execution_count": 5,
   "metadata": {},
   "outputs": [
    {
     "data": {
      "text/plain": [
       "0.0070985095"
      ]
     },
     "execution_count": 5,
     "metadata": {},
     "output_type": "execute_result"
    }
   ],
   "source": [
    "np.linalg.norm(y_pred-y_true.detach().numpy(),2)/np.linalg.norm(y_true,2)"
   ]
  }
 ],
 "metadata": {
  "kernelspec": {
   "display_name": "pinns-course-env",
   "language": "python",
   "name": "python3"
  },
  "language_info": {
   "codemirror_mode": {
    "name": "ipython",
    "version": 3
   },
   "file_extension": ".py",
   "mimetype": "text/x-python",
   "name": "python",
   "nbconvert_exporter": "python",
   "pygments_lexer": "ipython3",
   "version": "3.12.3"
  }
 },
 "nbformat": 4,
 "nbformat_minor": 2
}
