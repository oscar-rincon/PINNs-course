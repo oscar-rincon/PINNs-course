{
 "cells": [
  {
   "cell_type": "markdown",
   "metadata": {},
   "source": [
    "## Red neuronal feed-forward como función de aproximación\n",
    "\n",
    "A continuación, se empleará una red neuronal feed-forward como función de aproximación para resolver la siguente ecuación diferencial:\n",
    "\n",
    "$$\\frac{d^2u}{dx^2} + u + x = 0 \\enspace , $$\n",
    "\n",
    "con condiciones de frontera $u(0)=u(1)=0$."
   ]
  },
  {
   "cell_type": "code",
   "execution_count": 74,
   "metadata": {},
   "outputs": [],
   "source": [
    "%matplotlib widget\n",
    "import numpy as np\n",
    "import matplotlib.pyplot as plt\n",
    "import torch\n",
    "import torch.optim as optim\n",
    "import torch.nn as nn\n",
    "import warnings\n",
    "warnings.filterwarnings(\"ignore\")"
   ]
  },
  {
   "cell_type": "code",
   "execution_count": 59,
   "metadata": {},
   "outputs": [],
   "source": [
    "# Red Neuronal\n",
    "def funcion_aprox(x, input_layer, hidden_layer, output_layer):\n",
    "    x = torch.tanh(input_layer(x))\n",
    "    x = torch.tanh(hidden_layer(x))\n",
    "    x = output_layer(x)\n",
    "    return x\n",
    "\n",
    "# Inicialización de parámetros\n",
    "def initialize_parameters():\n",
    "    input_layer = nn.Linear(1, 2)\n",
    "    hidden_layer = nn.Linear(2, 2)\n",
    "    output_layer = nn.Linear(2, 1)\n",
    "    return input_layer, hidden_layer, output_layer"
   ]
  },
  {
   "cell_type": "code",
   "execution_count": 75,
   "metadata": {},
   "outputs": [
    {
     "name": "stdout",
     "output_type": "stream",
     "text": [
      "Epoch 0, Loss: 0.7704788446426392\n",
      "Epoch 100, Loss: 0.04117979854345322\n",
      "Epoch 200, Loss: 0.015097202733159065\n",
      "Epoch 300, Loss: 0.004641540348529816\n",
      "Epoch 400, Loss: 0.0007804674096405506\n",
      "Epoch 500, Loss: 0.00015228736447170377\n",
      "Epoch 600, Loss: 7.557171920780092e-05\n",
      "Epoch 700, Loss: 6.106132786953822e-05\n",
      "Epoch 800, Loss: 4.927019836031832e-05\n",
      "Epoch 900, Loss: 3.82689613616094e-05\n"
     ]
    }
   ],
   "source": [
    "# Derivada\n",
    "def derivative(dy, x, order=1):\n",
    "    for _ in range(order):\n",
    "        dy = torch.autograd.grad(dy, x, grad_outputs=torch.ones_like(dy), create_graph=True, retain_graph=True)[0]\n",
    "    return dy\n",
    "\n",
    "# Residuo\n",
    "def residuo(x, input_layer, hidden_layer, output_layer):\n",
    "    y = funcion_aprox(x, input_layer, hidden_layer, output_layer)\n",
    "    return derivative(y, x, order=2) + y + x\n",
    "\n",
    "# Función de pérdida\n",
    "def loss_fn(x, input_layer, hidden_layer, output_layer):\n",
    "    y = residuo(x, input_layer, hidden_layer, output_layer)\n",
    "    return torch.mean(y ** 2)  # Error cuadrático medio\n",
    "\n",
    "# Configuración de datos y parámetros\n",
    "x = torch.tensor([1/5, 2/5, 3/5, 4/5], requires_grad=True).view(-1, 1)  \n",
    "x_bc1 = torch.tensor([0.0], requires_grad=True) \n",
    "x_bc2 = torch.tensor([1.0], requires_grad=True) \n",
    "\n",
    "input_layer, hidden_layer, output_layer = initialize_parameters()\n",
    "\n",
    "# Configuración del optimizador\n",
    "params = list(input_layer.parameters()) + list(hidden_layer.parameters()) + list(output_layer.parameters())\n",
    "optimizer = torch.optim.Adam(params, lr=0.01)\n",
    "\n",
    "# Bucle de entrenamiento\n",
    "num_epochs = 1000\n",
    "for epoch in range(num_epochs):\n",
    "    optimizer.zero_grad()  # Limpiar gradientes previos\n",
    "    loss_physics = torch.mean(residuo(x, input_layer, hidden_layer, output_layer) ** 2)\n",
    "    loss_bc_1 = torch.mean(funcion_aprox(x_bc1, input_layer, hidden_layer, output_layer) ** 2)\n",
    "    loss_bc_2 = torch.mean(funcion_aprox(x_bc2, input_layer, hidden_layer, output_layer) ** 2)\n",
    "    current_loss = loss_physics + loss_bc_1 + loss_bc_2  # Calcular la pérdida\n",
    "    current_loss.backward()  # Calcular gradientes\n",
    "    optimizer.step()  # Actualizar parámetros\n",
    "\n",
    "    if epoch % 100 == 0:  # Mostrar progreso cada 100 épocas\n",
    "        print(f'Epoch {epoch}, Loss: {current_loss.item()}')"
   ]
  },
  {
   "cell_type": "code",
   "execution_count": 61,
   "metadata": {},
   "outputs": [
    {
     "data": {
      "application/vnd.jupyter.widget-view+json": {
       "model_id": "59c35006436647ca918620caea84485f",
       "version_major": 2,
       "version_minor": 0
      },
      "image/png": "[encoded data removed]",
      "text/html": [
       "\n",
       "            <div style=\"display: inline-block;\">\n",
       "                <div class=\"jupyter-widgets widget-label\" style=\"text-align: center;\">\n",
       "                    Figure\n",
       "                </div>\n",
       "                <img src='data:image/png;base64,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' width=350.0/>\n",
       "            </div>\n",
       "        "
      ],
      "text/plain": [
       "Canvas(toolbar=Toolbar(toolitems=[('Home', 'Reset original view', 'home', 'home'), ('Back', 'Back to previous …"
      ]
     },
     "metadata": {},
     "output_type": "display_data"
    }
   ],
   "source": [
    "# Generar puntos para graficar\n",
    "x = torch.linspace(0, 1, 100).view(-1, 1)\n",
    "y_pred = funcion_aprox(x, input_layer, hidden_layer, output_layer).detach().numpy()\n",
    "y_true = np.sin(x)/np.sin(1) - x\n",
    "\n",
    "# Graficar la solución\n",
    "fig = plt.figure(figsize=(3.5, 2.0))\n",
    "plt.plot(x.numpy(), y_pred)\n",
    "plt.plot(x,y_true,'--')\n",
    "plt.xlabel('x')\n",
    "plt.ylabel('y')\n",
    "plt.show()"
   ]
  },
  {
   "cell_type": "code",
   "execution_count": 53,
   "metadata": {},
   "outputs": [
    {
     "data": {
      "text/plain": [
       "0.001568383"
      ]
     },
     "execution_count": 53,
     "metadata": {},
     "output_type": "execute_result"
    }
   ],
   "source": [
    "np.linalg.norm(y_pred-y_true.detach().numpy(),2)/np.linalg.norm(y_true,2)"
   ]
  }
 ],
 "metadata": {
  "kernelspec": {
   "display_name": "pinns-course-env",
   "language": "python",
   "name": "python3"
  },
  "language_info": {
   "codemirror_mode": {
    "name": "ipython",
    "version": 3
   },
   "file_extension": ".py",
   "mimetype": "text/x-python",
   "name": "python",
   "nbconvert_exporter": "python",
   "pygments_lexer": "ipython3",
   "version": "3.12.3"
  }
 },
 "nbformat": 4,
 "nbformat_minor": 2
}
