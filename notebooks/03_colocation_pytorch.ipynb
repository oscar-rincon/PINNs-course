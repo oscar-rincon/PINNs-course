{
 "cells": [
  {
   "cell_type": "code",
   "execution_count": 2,
   "metadata": {},
   "outputs": [],
   "source": [
    "# Import NumPy for numerical operations\n",
    "import numpy as np\n",
    "\n",
    "# Import Matplotlib for plotting\n",
    "import matplotlib.pyplot as plt\n",
    "\n",
    "# Import PyTorch for building and training neural networks\n",
    "import torch\n",
    "import torch.nn as nn\n",
    "import torch.optim as optim\n",
    "\n",
    "# Import the time module to time our training process\n",
    "import time\n",
    "\n",
    "# Import a utility module for additional plotting functions\n",
    "import utils_plots\n",
    "\n",
    "# Ignore Warning Messages\n",
    "import warnings\n",
    "warnings.filterwarnings(\"ignore\")"
   ]
  },
  {
   "cell_type": "code",
   "execution_count": 44,
   "metadata": {},
   "outputs": [
    {
     "name": "stdout",
     "output_type": "stream",
     "text": [
      "Epoch 0, Loss: 0.1371428519487381, c: tensor([0.9900, 0.9900, 0.9900, 0.9900])\n",
      "Epoch 1000, Loss: 7.483451716569263e-18, c: tensor([-7.1209e-08,  2.1958e-07, -1.3896e-08, -2.0098e-07])\n",
      "Epoch 2000, Loss: 4.138324220418081e-18, c: tensor([-5.1093e-08,  1.7343e-07, -3.0501e-08, -1.5217e-07])\n",
      "Epoch 3000, Loss: 1.5798729905601958e-18, c: tensor([-3.2956e-08,  1.1798e-07, -4.2679e-08, -7.8401e-08])\n",
      "Epoch 4000, Loss: 3.1015548073042635e-19, c: tensor([-1.6570e-08,  6.7786e-08, -5.3369e-08, -1.2018e-08])\n",
      "Epoch 5000, Loss: 2.4398616283092138e-20, c: tensor([-6.9118e-09,  3.8012e-08, -5.8959e-08,  2.6503e-08])\n",
      "Epoch 6000, Loss: 4.774938860053566e-21, c: tensor([-3.8869e-09,  2.8304e-08, -5.9263e-08,  3.7325e-08])\n",
      "Epoch 7000, Loss: 4.164734426859803e-21, c: tensor([-3.4027e-09,  2.6069e-08, -5.6747e-08,  3.6854e-08])\n",
      "Epoch 8000, Loss: 3.564898831891363e-21, c: tensor([-3.1416e-09,  2.4099e-08, -5.2504e-08,  3.4122e-08])\n",
      "Epoch 9000, Loss: 2.758111775729462e-21, c: tensor([-2.7631e-09,  2.1196e-08, -4.6180e-08,  3.0012e-08])\n",
      "Optimized c: tensor([-2.2362e-09,  1.7154e-08, -3.7373e-08,  2.4288e-08])\n"
     ]
    }
   ],
   "source": [
    "import torch\n",
    "from torch.nn import Parameter\n",
    "\n",
    "def polynomial(c, x):\n",
    "    \"\"\"Polinomio con coeficientes c y variable x\"\"\"\n",
    "    return (-c[0]*x**2 + c[0]*x - 2*c[0] - c[1]*x**3 + c[1]*x**2 - 6*c[1]*x + 2*c[1] - c[2]*x**4 + c[2]*x**3 - 12*c[2]*x**2 + 6*c[2]*x - c[3]*x**5 + c[3]*x**4 - 20*c[3]*x**3 + 12*c[3]*x**2 + x) \n",
    "\n",
    "def polynomial(c, x):\n",
    "    \"\"\"Polinomio con coeficientes c y variable x\"\"\"\n",
    "    terms = [c[i] * x**(i+1) * (1 - x) for i in range(len(c))]\n",
    "    return sum(terms)\n",
    "\n",
    "c = Parameter(torch.ones(4)) \n",
    "\n",
    "x = torch.linspace(0, 1, steps=100)  # Crea un tensor con 100 puntos equidistantes entre 0 y 1\n",
    "target_value = torch.tensor(0.0)  # Example target value\n",
    "\n",
    "def loss_fn(x, c, target):\n",
    "    y = polynomial(c, x)\n",
    "    loss = torch.mean((y - target) ** 2)  # Mean squared error\n",
    "    return loss\n",
    "\n",
    "optimizer = torch.optim.Adam([c], lr=0.01)\n",
    "\n",
    "for epoch in range(10_000):  # Number of iterations\n",
    "    optimizer.zero_grad()  # Clear previous gradients\n",
    "    loss = loss_fn(x, c, target_value)  # Compute loss\n",
    "    loss.backward()  # Compute gradients\n",
    "    optimizer.step()  # Update parameters\n",
    "    \n",
    "    if epoch % 1000 == 0:  # Print progress every 100 epochs\n",
    "        print(f'Epoch {epoch}, Loss: {loss}, c: {c.data}')\n",
    "\n",
    "print(f'Optimized c: {c.data}')"
   ]
  },
  {
   "cell_type": "code",
   "execution_count": 45,
   "metadata": {},
   "outputs": [
    {
     "data": {
      "text/plain": [
       "[<matplotlib.lines.Line2D at 0x7fca2d1c1be0>]"
      ]
     },
     "execution_count": 45,
     "metadata": {},
     "output_type": "execute_result"
    },
    {
     "data": {
      "image/png": "[encoded data removed]",
      "text/plain": [
       "<Figure size 350x200 with 1 Axes>"
      ]
     },
     "metadata": {},
     "output_type": "display_data"
    }
   ],
   "source": [
    "def funcion_aprox(x, c):\n",
    "    \"\"\"Función de aproximación con coeficientes c y variable x\"\"\"\n",
    "    terms = [coef * x**(i + 1) * (1 - x) for i, coef in enumerate(c)]\n",
    "    return np.sum(terms, axis=0)\n",
    "\n",
    "y = funcion_aprox(x, c.detach().numpy())\n",
    "\n",
    "# Create a figure for the plot\n",
    "fig = plt.figure(figsize=(3.5, 2.0))\n",
    "plt.plot(x,y)"
   ]
  }
 ],
 "metadata": {
  "kernelspec": {
   "display_name": "pinns-course-env",
   "language": "python",
   "name": "python3"
  },
  "language_info": {
   "codemirror_mode": {
    "name": "ipython",
    "version": 3
   },
   "file_extension": ".py",
   "mimetype": "text/x-python",
   "name": "python",
   "nbconvert_exporter": "python",
   "pygments_lexer": "ipython3",
   "version": "3.12.3"
  }
 },
 "nbformat": 4,
 "nbformat_minor": 2
}
