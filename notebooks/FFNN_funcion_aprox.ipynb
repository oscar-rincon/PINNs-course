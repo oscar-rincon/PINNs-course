{
 "cells": [
  {
   "cell_type": "markdown",
   "metadata": {},
   "source": [
    "## Red neuronal feed-forward como función de aproximación\n",
    "\n",
    "A continuación, se empleará una red neuronal feed-forward como función de aproximación para resolver la siguente ecuación diferencial:\n",
    "\n",
    "$$\\frac{d^2u}{dx^2} + u + x = 0 \\enspace , $$\n",
    "\n",
    "con condiciones de frontera $u(0)=u(1)=0$."
   ]
  },
  {
   "cell_type": "code",
   "execution_count": 12,
   "metadata": {},
   "outputs": [],
   "source": [
    "%matplotlib widget\n",
    "import numpy as np\n",
    "import matplotlib.pyplot as plt\n",
    "import torch\n",
    "import torch.optim as optim\n",
    "import torch.nn as nn\n",
    "import warnings\n",
    "warnings.filterwarnings(\"ignore\")"
   ]
  },
  {
   "cell_type": "code",
   "execution_count": 13,
   "metadata": {},
   "outputs": [],
   "source": [
    "# Red Neuronal\n",
    "def funcion_aprox(x, input_layer, hidden_layer, output_layer):\n",
    "    x = torch.tanh(input_layer(x))\n",
    "    x = torch.tanh(hidden_layer(x))\n",
    "    x = output_layer(x)\n",
    "    return x\n",
    "\n",
    "# Inicialización de parámetros\n",
    "def initialize_parameters():\n",
    "    input_layer = nn.Linear(1, 2)\n",
    "    hidden_layer = nn.Linear(2, 2)\n",
    "    output_layer = nn.Linear(2, 1)\n",
    "    return input_layer, hidden_layer, output_layer"
   ]
  },
  {
   "cell_type": "code",
   "execution_count": 14,
   "metadata": {},
   "outputs": [
    {
     "name": "stdout",
     "output_type": "stream",
     "text": [
      "Epoch 0, Loss: 1.3449918031692505\n",
      "Epoch 100, Loss: 0.00016937927284743637\n",
      "Epoch 200, Loss: 4.2202438635285944e-05\n",
      "Epoch 300, Loss: 1.4202330930856988e-05\n",
      "Epoch 400, Loss: 3.7536403851845535e-06\n",
      "Epoch 500, Loss: 7.658587151126994e-07\n",
      "Epoch 600, Loss: 1.2111301828099386e-07\n",
      "Epoch 700, Loss: 9.092166237678612e-07\n",
      "Epoch 800, Loss: 5.573499350930433e-08\n",
      "Epoch 900, Loss: 0.0016260570846498013\n"
     ]
    }
   ],
   "source": [
    "# Derivada\n",
    "def derivative(dy, x, order=1):\n",
    "    for _ in range(order):\n",
    "        dy = torch.autograd.grad(dy, x, grad_outputs=torch.ones_like(dy), create_graph=True, retain_graph=True)[0]\n",
    "    return dy\n",
    "\n",
    "# Residuo\n",
    "def residuo(x, input_layer, hidden_layer, output_layer):\n",
    "    y = funcion_aprox(x, input_layer, hidden_layer, output_layer)\n",
    "    return derivative(y, x, order=2) + y + x\n",
    "\n",
    "# Función de pérdida\n",
    "def loss_fn(x, input_layer, hidden_layer, output_layer):\n",
    "    y = residuo(x, input_layer, hidden_layer, output_layer)\n",
    "    return torch.mean(y ** 2)  # Error cuadrático medio\n",
    "\n",
    "# Configuración de datos y parámetros\n",
    "x = torch.tensor([1/5, 2/5, 3/5, 4/5], requires_grad=True).view(-1, 1)  \n",
    "x_bc1 = torch.tensor([0.0], requires_grad=True) \n",
    "x_bc2 = torch.tensor([1.0], requires_grad=True) \n",
    "\n",
    "input_layer, hidden_layer, output_layer = initialize_parameters()\n",
    "\n",
    "# Configuración del optimizador\n",
    "params = list(input_layer.parameters()) + list(hidden_layer.parameters()) + list(output_layer.parameters())\n",
    "optimizer = torch.optim.Adam(params, lr=0.1)\n",
    "\n",
    "# Bucle de entrenamiento\n",
    "num_epochs = 1000\n",
    "for epoch in range(num_epochs):\n",
    "    optimizer.zero_grad()  # Limpiar gradientes previos\n",
    "    loss_physics = torch.mean(residuo(x, input_layer, hidden_layer, output_layer) ** 2)\n",
    "    loss_bc_1 = torch.mean(funcion_aprox(x_bc1, input_layer, hidden_layer, output_layer) ** 2)\n",
    "    loss_bc_2 = torch.mean(funcion_aprox(x_bc2, input_layer, hidden_layer, output_layer) ** 2)\n",
    "    current_loss = loss_physics + loss_bc_1 + loss_bc_2  # Calcular la pérdida\n",
    "    current_loss.backward()  # Calcular gradientes\n",
    "    optimizer.step()  # Actualizar parámetros\n",
    "\n",
    "    if epoch % 100 == 0:  # Mostrar progreso cada 100 épocas\n",
    "        print(f'Epoch {epoch}, Loss: {current_loss.item()}')"
   ]
  },
  {
   "cell_type": "code",
   "execution_count": 15,
   "metadata": {},
   "outputs": [
    {
     "data": {
      "application/vnd.jupyter.widget-view+json": {
       "model_id": "71848e693c1c46e0ab53a3381799431f",
       "version_major": 2,
       "version_minor": 0
      },
      "image/png": "[encoded data removed]",
      "text/html": [
       "\n",
       "            <div style=\"display: inline-block;\">\n",
       "                <div class=\"jupyter-widgets widget-label\" style=\"text-align: center;\">\n",
       "                    Figure\n",
       "                </div>\n",
       "                <img src='data:image/png;base64,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' width=350.0/>\n",
       "            </div>\n",
       "        "
      ],
      "text/plain": [
       "Canvas(toolbar=Toolbar(toolitems=[('Home', 'Reset original view', 'home', 'home'), ('Back', 'Back to previous …"
      ]
     },
     "metadata": {},
     "output_type": "display_data"
    }
   ],
   "source": [
    "# Generar puntos para graficar\n",
    "x = torch.linspace(0, 1, 100).view(-1, 1)\n",
    "y_pred = funcion_aprox(x, input_layer, hidden_layer, output_layer).detach().numpy()\n",
    "y_true = np.sin(x)/np.sin(1) - x\n",
    "\n",
    "# Graficar la solución\n",
    "fig = plt.figure(figsize=(3.5, 2.0))\n",
    "plt.plot(x.numpy(), y_pred)\n",
    "plt.plot(x,y_true,'--')\n",
    "plt.xlabel('x')\n",
    "plt.ylabel('y')\n",
    "plt.show()"
   ]
  },
  {
   "cell_type": "code",
   "execution_count": 16,
   "metadata": {},
   "outputs": [
    {
     "data": {
      "text/plain": [
       "0.0043708193"
      ]
     },
     "execution_count": 16,
     "metadata": {},
     "output_type": "execute_result"
    }
   ],
   "source": [
    "# Error relativo\n",
    "np.linalg.norm(y_pred-y_true.detach().numpy(),2)/np.linalg.norm(y_true,2)"
   ]
  }
 ],
 "metadata": {
  "kernelspec": {
   "display_name": "pinns-course-env",
   "language": "python",
   "name": "python3"
  },
  "language_info": {
   "codemirror_mode": {
    "name": "ipython",
    "version": 3
   },
   "file_extension": ".py",
   "mimetype": "text/x-python",
   "name": "python",
   "nbconvert_exporter": "python",
   "pygments_lexer": "ipython3",
   "version": "3.12.3"
  }
 },
 "nbformat": 4,
 "nbformat_minor": 2
}
