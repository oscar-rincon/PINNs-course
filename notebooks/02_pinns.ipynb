{
 "cells": [
  {
   "cell_type": "markdown",
   "metadata": {},
   "source": [
    "# PINNs\n",
    "\n",
    "Consideremos la misma ecuación diferencial, resuelta en el notebook anterior con el método de residuos de ponderación: \n",
    "\n",
    "$$\\frac{d^2u}{dx^2} + u + x = 0 \\enspace , $$\n",
    "\n",
    "con condiciones de frontera $u(0)=u(1)=0$.\n",
    "\n",
    "La solución a este problema de valores de la frontera es\n",
    "\n",
    "$$u_e(x) = \\frac{\\sin(x)}{\\sin(1)} - x \\enspace ,$$"
   ]
  },
  {
   "cell_type": "code",
   "execution_count": 17,
   "metadata": {},
   "outputs": [],
   "source": [
    "# Import NumPy for numerical operations\n",
    "import numpy as np\n",
    "\n",
    "# Import PyTorch for building and training neural networks\n",
    "import torch\n",
    "import torch.nn as nn\n",
    "import torch.optim as optim\n",
    "\n",
    "# Import Matplotlib for plotting\n",
    "import matplotlib.pyplot as plt\n",
    "\n",
    "# Configuracion graficos\n",
    "gris = '#757575'\n",
    "plt.rcParams[\"mathtext.fontset\"] = \"cm\"\n",
    "plt.rcParams[\"text.color\"] = gris\n",
    "plt.rcParams[\"font.size\"] = 12\n",
    "plt.rcParams[\"xtick.color\"] = gris\n",
    "plt.rcParams[\"ytick.color\"] = gris\n",
    "plt.rcParams[\"axes.labelcolor\"] = gris\n",
    "plt.rcParams[\"axes.edgecolor\"] = gris\n",
    "plt.rcParams[\"axes.spines.right\"] = False\n",
    "plt.rcParams[\"axes.spines.top\"] = False"
   ]
  },
  {
   "cell_type": "code",
   "execution_count": 22,
   "metadata": {},
   "outputs": [
    {
     "data": {
      "image/png": "[encoded data removed]",
      "text/plain": [
       "<Figure size 250x200 with 1 Axes>"
      ]
     },
     "metadata": {},
     "output_type": "display_data"
    }
   ],
   "source": [
    "x = torch.linspace(0,1,100).view(-1,1)\n",
    "u_e = torch.sin(x)/torch.sin(torch.tensor(1)) - x\n",
    "\n",
    "# Create a figure for the plot\n",
    "fig = plt.figure(figsize=(2.5, 2.0))\n",
    "\n",
    "plt.plot(x,u_e,color='gray', linewidth=2)\n",
    "\n",
    "# Set the title and labels for the x and y axes\n",
    "plt.xlabel('$x$')\n",
    "plt.ylabel('$u_{e}$')\n",
    "\n",
    "# Display the plot\n",
    "plt.show()"
   ]
  },
  {
   "cell_type": "code",
   "execution_count": 43,
   "metadata": {},
   "outputs": [],
   "source": [
    "x_physics = torch.linspace(0,1,100).view(-1,1).requires_grad_(True)\n",
    "\n",
    "\n",
    "# Define a neural network class with three fully connected layers\n",
    "class NeuralNetwork(nn.Module):\n",
    "    def __init__(self):\n",
    "        super(NeuralNetwork, self).__init__()\n",
    "        self.layer1 = nn.Linear(1, 10)\n",
    "        self.layer2 = nn.Linear(10, 10)\n",
    "        self.output_layer = nn.Linear(10, 1)\n",
    "\n",
    "    def forward(self, x):\n",
    "        x = torch.tanh(self.layer1(x))\n",
    "        x = torch.tanh(self.layer2(x))\n",
    "        x = self.output_layer(x)\n",
    "        return x\n",
    "    \n",
    "# Create an instance of the neural network\n",
    "model = NeuralNetwork()\n",
    "\n",
    "# Define an optimizer (Adam) for training the network\n",
    "optimizer = optim.Adam(model.parameters(), lr=0.01)\n",
    "\n",
    "# Define a loss function (Mean Squared Error) for training the network\n",
    "loss_func = nn.MSELoss()"
   ]
  },
  {
   "cell_type": "code",
   "execution_count": 44,
   "metadata": {},
   "outputs": [
    {
     "name": "stdout",
     "output_type": "stream",
     "text": [
      "Iteration 0, Loss: 0.3766207695007324\n",
      "Iteration 100, Loss: 0.0007746991468593478\n",
      "Iteration 200, Loss: 0.0001620390103198588\n",
      "Iteration 300, Loss: 4.247565448167734e-05\n",
      "Iteration 400, Loss: 2.6469570002518594e-05\n",
      "Iteration 500, Loss: 2.145311373169534e-05\n",
      "Iteration 600, Loss: 1.7592959920875728e-05\n",
      "Iteration 700, Loss: 1.4444516637013294e-05\n",
      "Iteration 800, Loss: 1.1896996511495672e-05\n",
      "Iteration 900, Loss: 1.2983892702322919e-05\n",
      "Iteration 1000, Loss: 9.565173968439922e-06\n"
     ]
    }
   ],
   "source": [
    "torch.manual_seed(123)\n",
    "\n",
    "files = []\n",
    "for i in range(1_001):\n",
    "    optimizer.zero_grad()\n",
    "    uh = model(x_physics)\n",
    "    dudx  = torch.autograd.grad(uh, x_physics, torch.ones_like(uh), create_graph=True)[0]  # computes du/dx\n",
    "    dudx2 = torch.autograd.grad(dudx, x_physics, torch.ones_like(dudx), create_graph=True)[0]  # computes d^2u/dx^2\n",
    "    physics = dudx2 + uh + x_physics \n",
    "    loss = torch.mean(physics**2)\n",
    "    # Add boundary conditions to the loss\n",
    "    bc_loss = loss_func(uh[0], torch.tensor([0.])) + loss_func(uh[-1], torch.tensor([0.]))\n",
    "    loss += bc_loss    \n",
    "    # backpropagate loss\n",
    "    loss.backward()\n",
    "    optimizer.step()\n",
    "\n",
    "    # Print progress every 1000 iterations\n",
    "    if i % 100 == 0:\n",
    "        print(f\"Iteration {i}, Loss: {loss.item()}\")"
   ]
  },
  {
   "cell_type": "code",
   "execution_count": 46,
   "metadata": {},
   "outputs": [
    {
     "data": {
      "image/png": "[encoded data removed]",
      "text/plain": [
       "<Figure size 250x200 with 1 Axes>"
      ]
     },
     "metadata": {},
     "output_type": "display_data"
    }
   ],
   "source": [
    "import matplotlib.pyplot as plt\n",
    "\n",
    "# Generate predictions\n",
    "model.eval()  # set the model to evaluation mode\n",
    "with torch.no_grad():  # turn off gradients for the prediction\n",
    "    predictions = model(x_physics)\n",
    "\n",
    "# Convert tensors to numpy arrays for plotting\n",
    "x = x_physics.detach().numpy()\n",
    "y = predictions.detach().numpy()\n",
    "\n",
    "# Create a figure for the plot\n",
    "fig = plt.figure(figsize=(2.5, 2.0))\n",
    "\n",
    "# Plot the predictions\n",
    "plt.plot(x, y)\n",
    "\n",
    "# Set the title and labels\n",
    "plt.title('PINNs Output')\n",
    "plt.xlabel('$x$')\n",
    "plt.ylabel('$u$')\n",
    "\n",
    "# Display the plot\n",
    "plt.show()"
   ]
  }
 ],
 "metadata": {
  "kernelspec": {
   "display_name": "pinns-course-env",
   "language": "python",
   "name": "python3"
  },
  "language_info": {
   "codemirror_mode": {
    "name": "ipython",
    "version": 3
   },
   "file_extension": ".py",
   "mimetype": "text/x-python",
   "name": "python",
   "nbconvert_exporter": "python",
   "pygments_lexer": "ipython3",
   "version": "3.12.3"
  }
 },
 "nbformat": 4,
 "nbformat_minor": 2
}
