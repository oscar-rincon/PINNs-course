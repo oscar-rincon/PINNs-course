{
 "cells": [
  {
   "cell_type": "markdown",
   "metadata": {},
   "source": [
    "# PINNs\n",
    "\n",
    "Consideremos la misma ecuación diferencial, resuelta en el notebook anterior con el método de residuos de ponderación: \n",
    "\n",
    "$$\\frac{d^2u}{dx^2} + u + x = 0 \\enspace , $$\n",
    "\n",
    "con condiciones de frontera $u(0)=u(1)=0$."
   ]
  },
  {
   "cell_type": "code",
   "execution_count": 1,
   "metadata": {},
   "outputs": [],
   "source": [
    "# Import NumPy for numerical operations\n",
    "import numpy as np\n",
    "\n",
    "# Import Matplotlib for plotting\n",
    "import matplotlib.pyplot as plt\n",
    "\n",
    "# Import PyTorch for building and training neural networks\n",
    "import torch\n",
    "import torch.nn as nn\n",
    "import torch.optim as optim\n",
    "\n",
    "# Import the time module to time our training process\n",
    "import time\n",
    "\n",
    "# Import a utility module for additional plotting functions\n",
    "import utils_plots\n",
    "\n",
    "# Ignore Warning Messages\n",
    "import warnings\n",
    "warnings.filterwarnings(\"ignore\")"
   ]
  },
  {
   "cell_type": "markdown",
   "metadata": {},
   "source": [
    "La solución a este problema de valores de la frontera es:\n",
    "\n",
    "$$u_e(x) = \\frac{\\sin(x)}{\\sin(1)} - x \\enspace .$$"
   ]
  },
  {
   "cell_type": "code",
   "execution_count": 2,
   "metadata": {},
   "outputs": [
    {
     "data": {
      "image/png": "[encoded data removed]",
      "text/plain": [
       "<Figure size 350x200 with 1 Axes>"
      ]
     },
     "metadata": {},
     "output_type": "display_data"
    }
   ],
   "source": [
    "x = torch.linspace(0,1,100).view(-1,1)\n",
    "x_physics = torch.linspace(0,1,100).view(-1,1).requires_grad_(True)\n",
    "u_e = torch.sin(x)/torch.sin(torch.tensor(1)) - x\n",
    "\n",
    "# Create a figure for the plot\n",
    "fig = plt.figure(figsize=(3.5, 2.0))\n",
    "\n",
    "plt.plot(x,u_e,color='gray', linewidth=2)\n",
    "\n",
    "# Set the title and labels for the x and y axes\n",
    "plt.xlabel('$x$')\n",
    "plt.ylabel('$u_{e}$')\n",
    "\n",
    "# Display the plot\n",
    "plt.show()"
   ]
  },
  {
   "cell_type": "markdown",
   "metadata": {},
   "source": [
    "En el siguiente bloque de código, definimos nuestro modelo de red neuronal. Este modelo es una red neuronal de alimentación directa simple con dos capas ocultas, cada una conteniendo **50 neuronas**. La función de activación utilizada es la tangente hiperbólica (`tanh`). También instanciamos el modelo y definimos el optimizador (**Adam**) y la función de pérdida (**Error Cuadrático Medio**) que se utilizarán durante el entrenamiento."
   ]
  },
  {
   "cell_type": "code",
   "execution_count": 7,
   "metadata": {},
   "outputs": [],
   "source": [
    "# Define a neural network class with three fully connected layers\n",
    "class NeuralNetwork(nn.Module):\n",
    "    def __init__(self):\n",
    "        super(NeuralNetwork, self).__init__()\n",
    "        self.layer1 = nn.Linear(1, 10)\n",
    "        self.layer2 = nn.Linear(10, 10)\n",
    "        self.output_layer = nn.Linear(10, 1)\n",
    "\n",
    "    def forward(self, x):\n",
    "        x = torch.tanh(self.layer1(x))\n",
    "        x = torch.tanh(self.layer2(x))\n",
    "        x = self.output_layer(x)\n",
    "        return x\n",
    "    \n",
    "# Create an instance of the neural network\n",
    "model = NeuralNetwork()\n",
    "\n",
    "# Define an optimizer (Adam) for training the network\n",
    "optimizer = optim.Adam(model.parameters(), lr=0.001)\n",
    "\n",
    "# Define a loss function (Mean Squared Error) for training the network\n",
    "loss_func = nn.MSELoss()"
   ]
  },
  {
   "cell_type": "markdown",
   "metadata": {},
   "source": [
    "En el siguiente bloque de código, entrenamos nuestra red neuronal. Ejecutamos el proceso de entrenamiento durante **2000 iteraciones**."
   ]
  },
  {
   "cell_type": "code",
   "execution_count": 8,
   "metadata": {},
   "outputs": [
    {
     "name": "stdout",
     "output_type": "stream",
     "text": [
      "Iteration 0, Loss: 0.3766207695007324\n",
      "Iteration 100, Loss: 0.1318909227848053\n",
      "Iteration 200, Loss: 0.022006485611200333\n",
      "Iteration 300, Loss: 0.005070406477898359\n",
      "Iteration 400, Loss: 0.0020514661446213722\n",
      "Iteration 500, Loss: 0.0012448420748114586\n",
      "Iteration 600, Loss: 0.0008179526776075363\n",
      "Iteration 700, Loss: 0.0005392422317527235\n",
      "Iteration 800, Loss: 0.0003599501505959779\n",
      "Iteration 900, Loss: 0.00024847930762916803\n",
      "Iteration 1000, Loss: 0.00018106677453033626\n",
      "Iteration 1100, Loss: 0.00014112243661656976\n",
      "Iteration 1200, Loss: 0.00011749359691748396\n",
      "Iteration 1300, Loss: 0.0001030211424222216\n",
      "Iteration 1400, Loss: 9.340166434412822e-05\n",
      "Iteration 1500, Loss: 8.624117617728189e-05\n",
      "Iteration 1600, Loss: 8.031049219425768e-05\n",
      "Iteration 1700, Loss: 7.502570952055976e-05\n",
      "Iteration 1800, Loss: 7.013002323219553e-05\n",
      "Iteration 1900, Loss: 6.551727710757405e-05\n",
      "Iteration 2000, Loss: 6.114653660915792e-05\n"
     ]
    }
   ],
   "source": [
    "torch.manual_seed(123)\n",
    "\n",
    "files = []\n",
    "losses = []\n",
    "for i in range(2_001):\n",
    "    optimizer.zero_grad()\n",
    "    uh = model(x_physics)\n",
    "    \n",
    "    # Calculate physics loss\n",
    "    dudx  = torch.autograd.grad(uh, x_physics, torch.ones_like(uh), create_graph=True)[0]  # computes du/dx\n",
    "    dudx2 = torch.autograd.grad(dudx, x_physics, torch.ones_like(dudx), create_graph=True)[0]  # computes d^2u/dx^2\n",
    "    physics = dudx2 + uh + x_physics \n",
    "    loss_physics = loss_func(physics,torch.tensor([0.]))\n",
    "    \n",
    "    # Calculate boundary conditions loss\n",
    "    loss_bc = loss_func(uh[0], torch.tensor([0.])) + loss_func(uh[-1], torch.tensor([0.]))\n",
    "    \n",
    "    # Calculate loss as the sum of phyiscs and boundary losses\n",
    "    loss = loss_physics + loss_bc    \n",
    "    \n",
    "    # backpropagate loss\n",
    "    loss.backward()\n",
    "    optimizer.step()\n",
    "    losses.append(loss)\n",
    "\n",
    "    # Print progress every 1000 iterations\n",
    "    if i % 100 == 0:\n",
    "        print(f\"Iteration {i}, Loss: {loss.item()}\")"
   ]
  },
  {
   "cell_type": "code",
   "execution_count": 9,
   "metadata": {},
   "outputs": [
    {
     "data": {
      "image/png": "[encoded data removed]",
      "text/plain": [
       "<Figure size 350x250 with 1 Axes>"
      ]
     },
     "metadata": {},
     "output_type": "display_data"
    }
   ],
   "source": [
    "# Convert each tensor to a Python number\n",
    "number_list = [t.item() for t in losses]\n",
    "\n",
    "# Convert the list of numbers to a numpy array\n",
    "losses = np.array(number_list)\n",
    "# Create a figure for the plot\n",
    "fig = plt.figure(figsize=(3.5, 2.5))\n",
    "\n",
    "# Plot the loss values recorded during training\n",
    "plt.semilogy(losses, color='gray', linewidth=2)\n",
    "\n",
    "# Set the labels for the x and y axes\n",
    "plt.xlabel('Iteration')\n",
    "plt.ylabel('Log Loss')\n",
    "\n",
    "# Set the title for the plot\n",
    "plt.title('Training Progress (Log Scale)', fontsize=10)\n",
    "\n",
    "# Display the grid\n",
    "plt.grid(True)\n",
    "\n",
    "# Display the plot\n",
    "plt.show()"
   ]
  },
  {
   "cell_type": "code",
   "execution_count": 10,
   "metadata": {},
   "outputs": [
    {
     "data": {
      "image/png": "[encoded data removed]",
      "text/plain": [
       "<Figure size 350x200 with 1 Axes>"
      ]
     },
     "metadata": {},
     "output_type": "display_data"
    }
   ],
   "source": [
    "# Generate predictions\n",
    "predictions = model(x_physics)\n",
    "\n",
    "# Convert tensors to numpy arrays for plotting\n",
    "x = x_physics.detach().numpy()\n",
    "u_pred = predictions.detach().numpy()\n",
    "\n",
    "# Create a figure for the plot\n",
    "fig = plt.figure(figsize=(3.5, 2.0))\n",
    "\n",
    "# Plot the predictions\n",
    "plt.plot(x, u_pred, color='gray', linewidth=2, label='Prediction')\n",
    "plt.plot(x, u_e, color='blue', linewidth=2, linestyle='dashed', label='Exact')\n",
    "\n",
    "# Set the title and labels\n",
    "plt.xlabel('$x$')\n",
    "plt.ylabel('$u$')\n",
    "\n",
    "# Add a legend\n",
    "plt.legend()\n",
    "\n",
    "# Increase the size of the plot for better visibility\n",
    "plt.rcParams[\"figure.figsize\"] = [10, 6]\n",
    "\n",
    "# Display the plot\n",
    "plt.show()"
   ]
  },
  {
   "cell_type": "code",
   "execution_count": null,
   "metadata": {},
   "outputs": [],
   "source": []
  }
 ],
 "metadata": {
  "kernelspec": {
   "display_name": "pinns-course-env",
   "language": "python",
   "name": "python3"
  },
  "language_info": {
   "codemirror_mode": {
    "name": "ipython",
    "version": 3
   },
   "file_extension": ".py",
   "mimetype": "text/x-python",
   "name": "python",
   "nbconvert_exporter": "python",
   "pygments_lexer": "ipython3",
   "version": "3.12.3"
  }
 },
 "nbformat": 4,
 "nbformat_minor": 2
}
